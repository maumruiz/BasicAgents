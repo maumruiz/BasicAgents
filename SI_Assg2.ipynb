{
  "nbformat": 4,
  "nbformat_minor": 0,
  "metadata": {
    "colab": {
      "name": "SI-Assg2.ipynb",
      "provenance": []
    },
    "kernelspec": {
      "name": "python3",
      "display_name": "Python 3"
    }
  },
  "cells": [
    {
      "cell_type": "code",
      "metadata": {
        "id": "2NAwSz84aTFx",
        "colab_type": "code",
        "colab": {}
      },
      "source": [
        "from agents import * "
      ],
      "execution_count": 4,
      "outputs": []
    },
    {
      "cell_type": "code",
      "metadata": {
        "id": "VW9CfRGZckCO",
        "colab_type": "code",
        "colab": {}
      },
      "source": [
        "class GridEnvironment(Environment):\n",
        "  def __init__(self, width=5, height=5):\n",
        "    self.width = width\n",
        "    self.height = height\n",
        "    self.x_start, self.y_start = (0, 0)\n",
        "    self.x_end, self.y_end = (self.width, self.height)\n",
        "\n",
        "  def __str__(self):\n",
        "    for r in range(self.width):\n",
        "      row = ''\n",
        "      for c in range(self.height):\n",
        "        row += '(---) '\n",
        "      row += '\\n'\n",
        "      print(row)\n",
        "    return ''\n",
        "\n",
        "  def is_inbounds(self, location):\n",
        "    '''Checks to make sure that the location is inbounds (within walls if we have walls)'''\n",
        "    x,y = location\n",
        "    return not (x < self.x_start or x >= self.x_end or y < self.y_start or y >= self.y_end)"
      ],
      "execution_count": 5,
      "outputs": []
    },
    {
      "cell_type": "code",
      "metadata": {
        "id": "NBctDQAec33h",
        "colab_type": "code",
        "colab": {
          "base_uri": "https://localhost:8080/",
          "height": 212
        },
        "outputId": "fbdc5065-c234-42ee-91cb-1317927169ea",
        "tags": []
      },
      "source": [
        "grid = GridEnvironment()\n",
        "print(grid)"
      ],
      "execution_count": 7,
      "outputs": [
        {
          "output_type": "stream",
          "name": "stdout",
          "text": "(---) (---) (---) (---) (---) \n\n(---) (---) (---) (---) (---) \n\n(---) (---) (---) (---) (---) \n\n(---) (---) (---) (---) (---) \n\n(---) (---) (---) (---) (---) \n\n\n"
        }
      ]
    },
    {
      "cell_type": "code",
      "metadata": {
        "id": "MT2tXWRVc7HL",
        "colab_type": "code",
        "colab": {}
      },
      "source": [
        ""
      ],
      "execution_count": null,
      "outputs": []
    }
  ]
}