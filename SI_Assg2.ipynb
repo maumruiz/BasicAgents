{
 "cells": [
  {
   "cell_type": "code",
   "execution_count": 4,
   "metadata": {
    "colab": {},
    "colab_type": "code",
    "id": "2NAwSz84aTFx"
   },
   "outputs": [],
   "source": [
    "from agents import * "
   ]
  },
  {
   "cell_type": "code",
   "execution_count": 5,
   "metadata": {
    "colab": {},
    "colab_type": "code",
    "id": "VW9CfRGZckCO"
   },
   "outputs": [],
   "source": [
    "class GridEnvironment(Environment):\n",
    "  def __init__(self, width=5, height=5):\n",
    "    self.width = width\n",
    "    self.height = height\n",
    "    self.x_start, self.y_start = (0, 0)\n",
    "    self.x_end, self.y_end = (self.width, self.height)\n",
    "\n",
    "  def __str__(self):\n",
    "    for r in range(self.width):\n",
    "      row = ''\n",
    "      for c in range(self.height):\n",
    "        row += '(---) '\n",
    "      row += '\\n'\n",
    "      print(row)\n",
    "    return ''\n",
    "\n",
    "  def is_inbounds(self, location):\n",
    "    '''Checks to make sure that the location is inbounds (within walls if we have walls)'''\n",
    "    x,y = location\n",
    "    return not (x < self.x_start or x >= self.x_end or y < self.y_start or y >= self.y_end)"
   ]
  },
  {
   "cell_type": "code",
   "execution_count": 7,
   "metadata": {
    "colab": {
     "base_uri": "https://localhost:8080/",
     "height": 212
    },
    "colab_type": "code",
    "id": "NBctDQAec33h",
    "outputId": "fbdc5065-c234-42ee-91cb-1317927169ea",
    "tags": []
   },
   "outputs": [
    {
     "name": "stdout",
     "output_type": "stream",
     "text": [
      "(---) (---) (---) (---) (---) \n",
      "\n",
      "(---) (---) (---) (---) (---) \n",
      "\n",
      "(---) (---) (---) (---) (---) \n",
      "\n",
      "(---) (---) (---) (---) (---) \n",
      "\n",
      "(---) (---) (---) (---) (---) \n",
      "\n",
      "\n"
     ]
    }
   ],
   "source": [
    "grid = GridEnvironment()\n",
    "print(grid)"
   ]
  },
  {
   "cell_type": "code",
   "execution_count": null,
   "metadata": {
    "colab": {},
    "colab_type": "code",
    "id": "MT2tXWRVc7HL"
   },
   "outputs": [],
   "source": []
  }
 ],
 "metadata": {
  "colab": {
   "name": "SI-Assg2.ipynb",
   "provenance": []
  },
  "kernelspec": {
   "display_name": "Python 3",
   "language": "python",
   "name": "python3"
  },
  "language_info": {
   "codemirror_mode": {
    "name": "ipython",
    "version": 3
   },
   "file_extension": ".py",
   "mimetype": "text/x-python",
   "name": "python",
   "nbconvert_exporter": "python",
   "pygments_lexer": "ipython3",
   "version": "3.6.9"
  }
 },
 "nbformat": 4,
 "nbformat_minor": 1
}
